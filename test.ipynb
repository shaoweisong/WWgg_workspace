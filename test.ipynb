{
 "cells": [
  {
   "cell_type": "code",
   "execution_count": 3,
   "metadata": {},
   "outputs": [],
   "source": [
    "import awkward as ak\n",
    "import glob\n",
    "import json\n",
    "import numpy as np\n",
    "import mplhep as hep\n",
    "import matplotlib.pyplot as plt\n",
    "import uproot\n"
   ]
  },
  {
   "cell_type": "code",
   "execution_count": 4,
   "metadata": {},
   "outputs": [
    {
     "data": {
      "text/plain": [
       "['Diphoton_mass', 'weight_central', 'category', 'PNN_score']"
      ]
     },
     "execution_count": 4,
     "metadata": {},
     "output_type": "execute_result"
    }
   ],
   "source": [
    "eventdata.fields"
   ]
  },
  {
   "cell_type": "code",
   "execution_count": 2,
   "metadata": {},
   "outputs": [
    {
     "ename": "AttributeError",
     "evalue": "no field named 'Diphoton_minID_modified'\n\n(https://github.com/scikit-hep/awkward-1.0/blob/1.10.5/src/awkward/highlevel.py#L1124)",
     "output_type": "error",
     "traceback": [
      "\u001b[0;31m---------------------------------------------------------------------------\u001b[0m",
      "\u001b[0;31mAttributeError\u001b[0m                            Traceback (most recent call last)",
      "Cell \u001b[0;32mIn[2], line 2\u001b[0m\n\u001b[1;32m      1\u001b[0m eventdata\u001b[38;5;241m=\u001b[39mak\u001b[38;5;241m.\u001b[39mfrom_parquet(\u001b[38;5;124m\"\u001b[39m\u001b[38;5;124m/afs/cern.ch/user/s/shsong/WWggDNN/bdt/data_PNN.parquet\u001b[39m\u001b[38;5;124m\"\u001b[39m)\n\u001b[0;32m----> 2\u001b[0m pnn\u001b[38;5;241m=\u001b[39meventdata\u001b[38;5;241m.\u001b[39mPNN_score[(\u001b[43meventdata\u001b[49m\u001b[38;5;241;43m.\u001b[39;49m\u001b[43mDiphoton_minID_modified\u001b[49m\u001b[38;5;241m>\u001b[39m\u001b[38;5;241m-\u001b[39m\u001b[38;5;241m0.7\u001b[39m)\u001b[38;5;241m&\u001b[39m((eventdata\u001b[38;5;241m.\u001b[39mDiphoton_mass\u001b[38;5;241m>\u001b[39m\u001b[38;5;241m135\u001b[39m)\u001b[38;5;241m|\u001b[39m(eventdata\u001b[38;5;241m.\u001b[39mDiphoton_mass\u001b[38;5;241m<\u001b[39m\u001b[38;5;241m115\u001b[39m))] \n\u001b[1;32m      3\u001b[0m pnn[pnn\u001b[38;5;241m>\u001b[39m\u001b[38;5;241m0.8\u001b[39m]\n",
      "File \u001b[0;32m/eos/user/s/shsong/Miniconda3/envs/higgsdna/lib/python3.9/site-packages/awkward/highlevel.py:1123\u001b[0m, in \u001b[0;36mArray.__getattr__\u001b[0;34m(self, where)\u001b[0m\n\u001b[1;32m   1117\u001b[0m         \u001b[38;5;28;01mraise\u001b[39;00m \u001b[38;5;167;01mAttributeError\u001b[39;00m(\n\u001b[1;32m   1118\u001b[0m             \u001b[38;5;124m\"\u001b[39m\u001b[38;5;124mwhile trying to get field \u001b[39m\u001b[38;5;132;01m{}\u001b[39;00m\u001b[38;5;124m, an exception \u001b[39m\u001b[38;5;124m\"\u001b[39m\n\u001b[1;32m   1119\u001b[0m             \u001b[38;5;124m\"\u001b[39m\u001b[38;5;124moccurred:\u001b[39m\u001b[38;5;130;01m\\n\u001b[39;00m\u001b[38;5;132;01m{}\u001b[39;00m\u001b[38;5;124m: \u001b[39m\u001b[38;5;132;01m{}\u001b[39;00m\u001b[38;5;124m\"\u001b[39m\u001b[38;5;241m.\u001b[39mformat(\u001b[38;5;28mrepr\u001b[39m(where), \u001b[38;5;28mtype\u001b[39m(err), \u001b[38;5;28mstr\u001b[39m(err))\n\u001b[1;32m   1120\u001b[0m             \u001b[38;5;241m+\u001b[39m ak\u001b[38;5;241m.\u001b[39m_util\u001b[38;5;241m.\u001b[39mexception_suffix(\u001b[38;5;18m__file__\u001b[39m)\n\u001b[1;32m   1121\u001b[0m         ) \u001b[38;5;28;01mfrom\u001b[39;00m \u001b[38;5;21;01merr\u001b[39;00m\n\u001b[1;32m   1122\u001b[0m \u001b[38;5;28;01melse\u001b[39;00m:\n\u001b[0;32m-> 1123\u001b[0m     \u001b[38;5;28;01mraise\u001b[39;00m \u001b[38;5;167;01mAttributeError\u001b[39;00m(\n\u001b[1;32m   1124\u001b[0m         \u001b[38;5;124mf\u001b[39m\u001b[38;5;124m\"\u001b[39m\u001b[38;5;124mno field named \u001b[39m\u001b[38;5;132;01m{\u001b[39;00mwhere\u001b[38;5;132;01m!r}\u001b[39;00m\u001b[38;5;124m\"\u001b[39m \u001b[38;5;241m+\u001b[39m ak\u001b[38;5;241m.\u001b[39m_util\u001b[38;5;241m.\u001b[39mexception_suffix(\u001b[38;5;18m__file__\u001b[39m)\n\u001b[1;32m   1125\u001b[0m     )\n",
      "\u001b[0;31mAttributeError\u001b[0m: no field named 'Diphoton_minID_modified'\n\n(https://github.com/scikit-hep/awkward-1.0/blob/1.10.5/src/awkward/highlevel.py#L1124)"
     ]
    }
   ],
   "source": [
    "eventdata=ak.from_parquet(\"/afs/cern.ch/user/s/shsong/WWggDNN/bdt/data_PNN.parquet\")\n",
    "pnn=eventdata.PNN_score[(eventdata.Diphoton_minID_modified>-0.7)&((eventdata.Diphoton_mass>135)|(eventdata.Diphoton_mass<115))] \n",
    "pnn[pnn>0.8]"
   ]
  },
  {
   "cell_type": "code",
   "execution_count": 14,
   "metadata": {},
   "outputs": [
    {
     "data": {
      "text/plain": [
       "<Array [0.859, 0.97, 0.969, ... 0.832, 0.933] type='8 * float32'>"
      ]
     },
     "execution_count": 14,
     "metadata": {},
     "output_type": "execute_result"
    }
   ],
   "source": [
    "events_sig=ak.from_parquet(\"/afs/cern.ch/user/s/shsong/WWggDNN/bdt/CombineFHSL_MX500_MH125_cat34_merged_nominal_PNN.parquet\")\n",
    "pnn=events_sig.PNN_score[(events_sig.Diphoton_minID_modified>-0.7)]\n",
    "len(pnn[pnn>0.8])/len(pnn)"
   ]
  },
  {
   "cell_type": "code",
   "execution_count": 15,
   "metadata": {},
   "outputs": [
    {
     "data": {
      "text/plain": [
       "0.7669878230594886"
      ]
     },
     "execution_count": 15,
     "metadata": {},
     "output_type": "execute_result"
    }
   ],
   "source": [
    "events_sig=ak.from_parquet(\"/afs/cern.ch/user/s/shsong/WWggDNN/bdt/Signal_2017_combineFHSL_cat12test_MX3000_MH125.parquet\")\n",
    "pnn=events_sig.PNN_score[(events_sig.Diphoton_minID_modified>-0.7)&(events_sig.category<3)]\n",
    "len(pnn[pnn>0.8])/len(pnn)"
   ]
  },
  {
   "cell_type": "code",
   "execution_count": 14,
   "metadata": {},
   "outputs": [],
   "source": [
    "sig=events_sig.arrays(['weight','PNN_score',\n",
    " 'CMS_hgg_mass',\n",
    " 'dZ'],library=\"ak\",how=\"zip\")\n"
   ]
  },
  {
   "cell_type": "code",
   "execution_count": 15,
   "metadata": {},
   "outputs": [],
   "source": [
    "brHHFH=0.00021844\n",
    "sig['weight']=sig.weight/brHHFH\n",
    "ak.to_parquet(sig,\"/eos/user/s/shsong/MX3000_MH125/CombineFHSL_MX3000_MH125_2017_combineFHSL_cat12highpurity.parquet\")\n",
    "# parquet_to_root(\"/eos/user/s/shsong/MX3000_MH125/CombineFHSL_MX3000_MH125_2017_combineFHSL_cat12highpurity.parquet\",\"/eos/user/s/shsong/MX3000_MH125/CombineFHSL_MX3000_MH125_2017_combineFHSL_cat12highpurity.root\",treename=\"gghh_125_13TeV_combineFHSL_cat12highpurity\",verbose=False)"
   ]
  },
  {
   "cell_type": "code",
   "execution_count": 12,
   "metadata": {},
   "outputs": [
    {
     "data": {
      "text/plain": [
       "45.51208196478457"
      ]
     },
     "execution_count": 12,
     "metadata": {},
     "output_type": "execute_result"
    }
   ],
   "source": [
    "# brHgg=0.00227\n",
    "brHHSL=0.0002146\n",
    "brHHFH=0.00021844\n",
    "\n",
    "ak.sum(events_sig['weight'].arrays())/(brHHFH)"
   ]
  },
  {
   "cell_type": "code",
   "execution_count": 3,
   "metadata": {},
   "outputs": [],
   "source": [
    "events_data=ak.from_parquet(\"/afs/cern.ch/user/s/shsong/WWggDNN/bdt/Data_2017_combineFHSL_cat12test_MX3000_MH125.parquet\")\n",
    "# bkg=ak.from_parquet(\"/afs/cern.ch/user/s/shsong/WWggDNN/bdt/bkgmc_PNN.parquet\")"
   ]
  },
  {
   "cell_type": "code",
   "execution_count": 20,
   "metadata": {},
   "outputs": [],
   "source": [
    "events_data20=events_data[events_data.PNN_score>0.985]\n",
    "events_data10=events_data[events_data.PNN_score>0.998]"
   ]
  },
  {
   "cell_type": "code",
   "execution_count": 21,
   "metadata": {},
   "outputs": [],
   "source": [
    "ak.to_parquet(events_data10,\"/afs/cern.ch/user/s/shsong/WWggDNN/bdt/Data_2017_combineFHSL_cat12test_MX3000_MH12510.parquet\")\n",
    "ak.to_parquet(events_data20,\"/afs/cern.ch/user/s/shsong/WWggDNN/bdt/Data_2017_combineFHSL_cat12test_MX3000_MH12520.parquet\")"
   ]
  },
  {
   "cell_type": "code",
   "execution_count": 48,
   "metadata": {},
   "outputs": [],
   "source": []
  },
  {
   "cell_type": "code",
   "execution_count": null,
   "metadata": {},
   "outputs": [],
   "source": [
    "import json"
   ]
  }
 ],
 "metadata": {
  "kernelspec": {
   "display_name": "higgsdna",
   "language": "python",
   "name": "python3"
  },
  "language_info": {
   "codemirror_mode": {
    "name": "ipython",
    "version": 3
   },
   "file_extension": ".py",
   "mimetype": "text/x-python",
   "name": "python",
   "nbconvert_exporter": "python",
   "pygments_lexer": "ipython3",
   "version": "3.9.19"
  }
 },
 "nbformat": 4,
 "nbformat_minor": 2
}
